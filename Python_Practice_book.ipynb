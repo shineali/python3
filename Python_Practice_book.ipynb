{
  "nbformat": 4,
  "nbformat_minor": 0,
  "metadata": {
    "colab": {
      "name": "Python Practice book.ipynb",
      "provenance": [],
      "collapsed_sections": [],
      "authorship_tag": "ABX9TyMT2+ETcVuTzkAToObkdibH",
      "include_colab_link": true
    },
    "kernelspec": {
      "name": "python3",
      "display_name": "Python 3"
    }
  },
  "cells": [
    {
      "cell_type": "markdown",
      "metadata": {
        "id": "view-in-github",
        "colab_type": "text"
      },
      "source": [
        "<a href=\"https://colab.research.google.com/github/shineali/python3/blob/master/Python_Practice_book.ipynb\" target=\"_parent\"><img src=\"https://colab.research.google.com/assets/colab-badge.svg\" alt=\"Open In Colab\"/></a>"
      ]
    },
    {
      "cell_type": "code",
      "metadata": {
        "id": "wo4Mfg8JxWVm",
        "colab_type": "code",
        "colab": {
          "base_uri": "https://localhost:8080/",
          "height": 86
        },
        "outputId": "1c5bc970-4d50-40e9-f40d-a8bad19d0535"
      },
      "source": [
        "#1\n",
        "#1 2\n",
        "#1 2 3\n",
        "#1 2 3 4\n",
        "\n",
        "def pat1(rows):\n",
        " for i in range(rows+1):\n",
        "  for x in range(i):\n",
        "   if x !=i-1:\n",
        "    print(x+1, end=\" \")\n",
        "   else:\n",
        "    print (x+1)\n",
        " return\n",
        "\n",
        "pat1(4) \n"
      ],
      "execution_count": 28,
      "outputs": [
        {
          "output_type": "stream",
          "text": [
            "1\n",
            "1 2\n",
            "1 2 3\n",
            "1 2 3 4\n"
          ],
          "name": "stdout"
        }
      ]
    },
    {
      "cell_type": "code",
      "metadata": {
        "id": "HqHDKM-T_Rh5",
        "colab_type": "code",
        "colab": {
          "base_uri": "https://localhost:8080/",
          "height": 69
        },
        "outputId": "9982fc77-dcea-49bd-d0de-cb20e3201dda"
      },
      "source": [
        "#1 2\n",
        "#1\n",
        "#1\n",
        "\n",
        "def pat2(rows):\n",
        "   for i in range (rows+1):\n",
        "     for x in range (rows-i):\n",
        "       if x!=rows-i-1:\n",
        "        print(x+1, end=\" \")\n",
        "       else:\n",
        "        print(x+1)\n",
        "   return \n",
        "\n",
        "pat2(3)"
      ],
      "execution_count": 29,
      "outputs": [
        {
          "output_type": "stream",
          "text": [
            "1 2 3\n",
            "1 2\n",
            "1\n"
          ],
          "name": "stdout"
        }
      ]
    },
    {
      "cell_type": "code",
      "metadata": {
        "id": "m4AmBKWr_VyM",
        "colab_type": "code",
        "colab": {
          "base_uri": "https://localhost:8080/",
          "height": 190
        },
        "outputId": "7d6b0a45-fddd-49b6-bce1-aa940762fd18"
      },
      "source": [
        "#This program will create a function to print the following pattern.\n",
        "# 1 2 3 4 5 6 7 8 \n",
        "#  1 2 3 4 5 6 7\n",
        "#   1 2 3 4 5 6\n",
        "#    1 2 3 4 5\n",
        "#     1 2 3 4\n",
        "#      1 2 3\n",
        "#       1 2\n",
        "#        1\n",
        "\n",
        "def pat3(rows):\n",
        "  for i in range (rows):\n",
        "    max=rows-i\n",
        "    for blocks in range(i):\n",
        "      print(end=\" \")\n",
        "    for x in range(max):\n",
        "      if(x!=max-1):\n",
        "        print(x+1, end=\" \")\n",
        "      else:\n",
        "        print(x+1)\n",
        "  return      \n",
        "\n",
        "pat3(10)\n",
        "\n",
        "\n",
        "\n",
        "\n"
      ],
      "execution_count": 2,
      "outputs": [
        {
          "output_type": "stream",
          "text": [
            "1 2 3 4 5 6 7 8 9 10\n",
            " 1 2 3 4 5 6 7 8 9\n",
            "  1 2 3 4 5 6 7 8\n",
            "   1 2 3 4 5 6 7\n",
            "    1 2 3 4 5 6\n",
            "     1 2 3 4 5\n",
            "      1 2 3 4\n",
            "       1 2 3\n",
            "        1 2\n",
            "         1\n"
          ],
          "name": "stdout"
        }
      ]
    },
    {
      "cell_type": "code",
      "metadata": {
        "id": "w_UkOpZ8dEf6",
        "colab_type": "code",
        "colab": {
          "base_uri": "https://localhost:8080/",
          "height": 69
        },
        "outputId": "f42b53bd-cbf7-44c2-f77b-3252c1c91ca6"
      },
      "source": [
        "#Pattern:\n",
        "#         *\n",
        "#        * *\n",
        "#       * * *\n",
        "#      * * * *\n",
        "#     * * * * *\n",
        "#      * * * *\n",
        "#       * * *\n",
        "#        * *\n",
        "#         *\n",
        "\n",
        "\n",
        "def diamond(rows):\n",
        "  if(rows%2==1):\n",
        "    mid = int((rows+1)/2)\n",
        "    halflen = int((rows-1)/2) #the number of rows on each half above and below the middle row.\n",
        "    #First Half\n",
        "    k=halflen\n",
        "    # outer loop to handle number of rows \n",
        "    for i in range(0, halflen): \n",
        "      \n",
        "        # inner loop to handle number spaces \n",
        "        # values changing acc. to requirement \n",
        "        for j in range(0, k): \n",
        "            print(end=\" \") \n",
        "        # decrementing k after each loop \n",
        "        k = k - 1\n",
        "        # inner loop to handle number of columns \n",
        "        # values changing acc. to outer loop \n",
        "        for j in range(0, i+1): \n",
        "          \n",
        "            # printing stars \n",
        "            print(\"*\", end=\" \")       \n",
        "        # ending line after each row \n",
        "        print(\"\\r\") \n",
        "\n",
        "#Middle row\n",
        "    for m in range(mid):\n",
        "      if(m!=mid-1):\n",
        "       print(\"*\", end=\" \")\n",
        "      else:\n",
        "       print(\"*\")\n",
        "#Second Half\n",
        "    for y in range(halflen):\n",
        "     max=halflen-y\n",
        "     for blocks in range(y+1): #y+1 cos we need the extra space after the middle row has terminated and we change to the lower row.\n",
        "      print(end=\" \")\n",
        "     for x in range(max):\n",
        "      if(x!=max-1):\n",
        "        print(\"*\", end=\" \")\n",
        "      else:\n",
        "        print(\"*\")\n",
        "  else:\n",
        "      print(\"please enter an odd number\")\n",
        "  return\n",
        "\n",
        "diamond(3) \n"
      ],
      "execution_count": 35,
      "outputs": [
        {
          "output_type": "stream",
          "text": [
            " * \r\n",
            "* *\n",
            " *\n"
          ],
          "name": "stdout"
        }
      ]
    },
    {
      "cell_type": "code",
      "metadata": {
        "id": "V8xSqg1bipP0",
        "colab_type": "code",
        "colab": {}
      },
      "source": [
        " "
      ],
      "execution_count": 0,
      "outputs": []
    }
  ]
}