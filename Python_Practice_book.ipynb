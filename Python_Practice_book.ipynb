{
  "nbformat": 4,
  "nbformat_minor": 0,
  "metadata": {
    "colab": {
      "name": "Python Practice book.ipynb",
      "provenance": [],
      "authorship_tag": "ABX9TyPUdEhKUFNZXDPt5OVzQ0BL",
      "include_colab_link": true
    },
    "kernelspec": {
      "name": "python3",
      "display_name": "Python 3"
    }
  },
  "cells": [
    {
      "cell_type": "markdown",
      "metadata": {
        "id": "view-in-github",
        "colab_type": "text"
      },
      "source": [
        "<a href=\"https://colab.research.google.com/github/shineali/python3/blob/master/Python_Practice_book.ipynb\" target=\"_parent\"><img src=\"https://colab.research.google.com/assets/colab-badge.svg\" alt=\"Open In Colab\"/></a>"
      ]
    },
    {
      "cell_type": "code",
      "metadata": {
        "id": "wo4Mfg8JxWVm",
        "colab_type": "code",
        "colab": {
          "base_uri": "https://localhost:8080/",
          "height": 86
        },
        "outputId": "1c5bc970-4d50-40e9-f40d-a8bad19d0535"
      },
      "source": [
        "\n",
        "#1\n",
        "#1 2\n",
        "#1 2 3\n",
        "#1 2 3 4\n",
        "\n",
        "def pat1(rows):\n",
        " for i in range(rows+1):\n",
        "  for x in range(i):\n",
        "   if x !=i-1:\n",
        "    print(x+1, end=\" \")\n",
        "   else:\n",
        "    print (x+1)\n",
        " return\n",
        "\n",
        "pat1(4) \n"
      ],
      "execution_count": 28,
      "outputs": [
        {
          "output_type": "stream",
          "text": [
            "1\n",
            "1 2\n",
            "1 2 3\n",
            "1 2 3 4\n"
          ],
          "name": "stdout"
        }
      ]
    },
    {
      "cell_type": "code",
      "metadata": {
        "id": "HqHDKM-T_Rh5",
        "colab_type": "code",
        "colab": {
          "base_uri": "https://localhost:8080/",
          "height": 69
        },
        "outputId": "9982fc77-dcea-49bd-d0de-cb20e3201dda"
      },
      "source": [
        "#1 2\n",
        "#1\n",
        "#1\n",
        "\n",
        "def pat2(rows):\n",
        "   for i in range (rows+1):\n",
        "     for x in range (rows-i):\n",
        "       if x!=rows-i-1:\n",
        "        print(x+1, end=\" \")\n",
        "       else:\n",
        "        print(x+1)\n",
        "   return \n",
        "\n",
        "pat2(3)"
      ],
      "execution_count": 29,
      "outputs": [
        {
          "output_type": "stream",
          "text": [
            "1 2 3\n",
            "1 2\n",
            "1\n"
          ],
          "name": "stdout"
        }
      ]
    },
    {
      "cell_type": "code",
      "metadata": {
        "id": "m4AmBKWr_VyM",
        "colab_type": "code",
        "colab": {}
      },
      "source": [
        ""
      ],
      "execution_count": 0,
      "outputs": []
    }
  ]
}